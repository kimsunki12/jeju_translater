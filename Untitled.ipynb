{
 "cells": [
  {
   "cell_type": "code",
   "execution_count": 1,
   "id": "d572c48d-4062-40b0-a597-4d3be7cb9fb2",
   "metadata": {},
   "outputs": [],
   "source": [
    "from mpl_toolkits.mplot3d import Axes3D\n",
    "from sklearn.preprocessing import StandardScaler\n",
    "import matplotlib.pyplot as plt # plotting\n",
    "import numpy as np # linear algebra\n",
    "import os # accessing directory structure\n",
    "import pandas as pd # data processing, CSV file I/O (e.g. pd.read_csv)"
   ]
  },
  {
   "cell_type": "code",
   "execution_count": 4,
   "id": "8450fbfb-7289-4a6c-962c-71d2521103e9",
   "metadata": {},
   "outputs": [
    {
     "name": "stdout",
     "output_type": "stream",
     "text": [
      "==== je.dev ====\n",
      "경ᄒᆞ민 이제 그것에 ᄀᆞ치 씨에 버물려지민 걸름에 다 ᄇᆞᆲ을 때 ᄇᆞᆲ앙 요만씩요만씩 다 뿌려노민이 , 그것에 붙엉 씨가 나오민 ᄒᆞ꼼 걸어라게 . 그냥 가는 건 쉡씨 , 그냥 걸름 아니 헹 그냥 씨삐엉 가는 건 그것엔 걸름이 들어가난 ᄒᆞ 잘 뒈어라게 밀랑밀랑하게 .\n",
      "바느질허는 사름덜도 먹곡 허민 그 관 짜는 사름덜도 먹곡 허주게 겐 관에 담은 후엔 안 먹어 .\n",
      "아 , 잔치 때도 ?\n",
      "\n",
      "\n",
      "\n",
      "==== je.test ====\n",
      "경헤도 거 ᄉᆞᆯᄉᆞᆯ 거려뒁 먹주 . 거 안 먹진 안허여 . 어떵 옛날 삶사 삶 이랏어\n",
      "마찬가지 겅 ᄊᆞᆯ 넣어근엥 물 넣곡 허영 ᄉᆞᆱ아가면 익어근엥 죽 뒈는 거\n",
      "그것ᄀᆞ란 저 거세기 , 정지 .\n",
      "\n",
      "\n",
      "\n",
      "==== je.train ====\n",
      "판관헤난 거 ?\n",
      "우리 그냥 맨손에 맨손에 검질도 메고 , 검질도 비고 . 경헤난 , 옛날은 .\n",
      "에 .\n",
      "\n",
      "\n",
      "\n",
      "==== ko.dev ====\n",
      "그렇게 하면 이제 그것에 같이 씨에 섞어지면 거름에 다 밟을 때 밟아서 이만큼씩 이만큼씩 다 뿌리면 , 그것에 붙어서 씨가 나오면 조금 걸었어 . 그냥 가는 건 쉡씨 , 그냥 거름 아니해서 그냥 씨 뿌려서 가는 건 그것엔 거름이 들어가니까 조금 잘 되더라 . 밀랑밀랑하게 .\n",
      "바느질하는 사람들도 먹고 하면 그 관 짜는 사람들도 먹고 하지 . 그래서 관에 담은 후엔 안 먹어 .\n",
      "아 , 잔치 때도 ?\n",
      "\n",
      "\n",
      "\n",
      "==== ko.test ====\n",
      "그래도 그거 살살 떠서 먹지 . 그거 안 먹진 않아 . 어떻게 옛날 삶이야 삶이 었어\n",
      "마찬가지 그렇게 쌀 넣어서 물 넣고 해서 삶아가면 익어서 죽 되는 거 .\n",
      "그것보고 저 거시기 , 부엌 .\n",
      "\n",
      "\n",
      "\n",
      "==== ko.train ====\n",
      "판관했던 거 ?\n",
      "우리 그냥 맨손에 맨손에 김도 매고 , 김도 베고 . 그렇게 했었어 , 옛날은 .\n",
      "예 .\n",
      "\n",
      "\n",
      "\n"
     ]
    }
   ],
   "source": [
    "import os\n",
    "\n",
    "data = {}\n",
    "\n",
    "# 제주어(je) 및 한국어(ko) 데이터 파일 리스트\n",
    "files = [\"je.dev\", \"je.test\", \"je.train\", \"ko.dev\", \"ko.test\", \"ko.train\"]\n",
    "\n",
    "# 파일 읽기\n",
    "for filename in files:\n",
    "    file_path = os.path.join(\"./\", filename)\n",
    "    with open(file_path, \"r\", encoding=\"utf-8\") as f:\n",
    "        data[filename] = f.readlines()  # 한 줄씩 리스트로 저장\n",
    "\n",
    "# 데이터 확인 (각 파일에서 처음 3줄만 출력)\n",
    "for key, value in data.items():\n",
    "    print(f\"==== {key} ====\")\n",
    "    print(\"\".join(value[:3]))  # 첫 3줄만 출력\n",
    "    print(\"\\n\")\n"
   ]
  },
  {
   "cell_type": "code",
   "execution_count": 5,
   "id": "370126f1-4ac8-44b1-bafc-f8b94f7024fa",
   "metadata": {},
   "outputs": [],
   "source": [
    "# Distribution graphs (histogram/bar graph) of column data\n",
    "def plotPerColumnDistribution(df, nGraphShown, nGraphPerRow):\n",
    "    nunique = df.nunique()\n",
    "    df = df[[col for col in df if nunique[col] > 1 and nunique[col] < 50]] # For displaying purposes, pick columns that have between 1 and 50 unique values\n",
    "    nRow, nCol = df.shape\n",
    "    columnNames = list(df)\n",
    "    nGraphRow = (nCol + nGraphPerRow - 1) / nGraphPerRow\n",
    "    plt.figure(num = None, figsize = (6 * nGraphPerRow, 8 * nGraphRow), dpi = 80, facecolor = 'w', edgecolor = 'k')\n",
    "    for i in range(min(nCol, nGraphShown)):\n",
    "        plt.subplot(nGraphRow, nGraphPerRow, i + 1)\n",
    "        columnDf = df.iloc[:, i]\n",
    "        if (not np.issubdtype(type(columnDf.iloc[0]), np.number)):\n",
    "            valueCounts = columnDf.value_counts()\n",
    "            valueCounts.plot.bar()\n",
    "        else:\n",
    "            columnDf.hist()\n",
    "        plt.ylabel('counts')\n",
    "        plt.xticks(rotation = 90)\n",
    "        plt.title(f'{columnNames[i]} (column {i})')\n",
    "    plt.tight_layout(pad = 1.0, w_pad = 1.0, h_pad = 1.0)\n",
    "    plt.show()\n"
   ]
  },
  {
   "cell_type": "code",
   "execution_count": 6,
   "id": "8502aa7f-6694-4f9f-9c6f-de58e36a86d7",
   "metadata": {},
   "outputs": [],
   "source": [
    "# Scatter and density plots\n",
    "def plotScatterMatrix(df, plotSize, textSize):\n",
    "    df = df.select_dtypes(include =[np.number]) # keep only numerical columns\n",
    "    # Remove rows and columns that would lead to df being singular\n",
    "    df = df.dropna('columns')\n",
    "    df = df[[col for col in df if df[col].nunique() > 1]] # keep columns where there are more than 1 unique values\n",
    "    columnNames = list(df)\n",
    "    if len(columnNames) > 10: # reduce the number of columns for matrix inversion of kernel density plots\n",
    "        columnNames = columnNames[:10]\n",
    "    df = df[columnNames]\n",
    "    ax = pd.plotting.scatter_matrix(df, alpha=0.75, figsize=[plotSize, plotSize], diagonal='kde')\n",
    "    corrs = df.corr().values\n",
    "    for i, j in zip(*plt.np.triu_indices_from(ax, k = 1)):\n",
    "        ax[i, j].annotate('Corr. coef = %.3f' % corrs[i, j], (0.8, 0.2), xycoords='axes fraction', ha='center', va='center', size=textSize)\n",
    "    plt.suptitle('Scatter and Density Plot')\n",
    "    plt.show()"
   ]
  },
  {
   "cell_type": "code",
   "execution_count": null,
   "id": "cc4a96f9-9167-4f38-b1e2-d7157800a43e",
   "metadata": {},
   "outputs": [],
   "source": []
  }
 ],
 "metadata": {
  "kernelspec": {
   "display_name": "Python 3 (ipykernel)",
   "language": "python",
   "name": "python3"
  },
  "language_info": {
   "codemirror_mode": {
    "name": "ipython",
    "version": 3
   },
   "file_extension": ".py",
   "mimetype": "text/x-python",
   "name": "python",
   "nbconvert_exporter": "python",
   "pygments_lexer": "ipython3",
   "version": "3.12.4"
  }
 },
 "nbformat": 4,
 "nbformat_minor": 5
}
